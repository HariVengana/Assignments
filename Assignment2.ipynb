{
  "nbformat": 4,
  "nbformat_minor": 0,
  "metadata": {
    "colab": {
      "provenance": []
    },
    "kernelspec": {
      "name": "python3",
      "display_name": "Python 3"
    },
    "language_info": {
      "name": "python"
    }
  },
  "cells": [
    {
      "cell_type": "code",
      "execution_count": 3,
      "metadata": {
        "colab": {
          "base_uri": "https://localhost:8080/",
          "height": 35
        },
        "id": "nr2AUMU6GpaO",
        "outputId": "392b1bdc-def7-4002-a0fe-b932c9771fad"
      },
      "outputs": [
        {
          "output_type": "execute_result",
          "data": {
            "text/plain": [
              "'Multi line \\n\\ncomments'"
            ],
            "application/vnd.google.colaboratory.intrinsic+json": {
              "type": "string"
            }
          },
          "metadata": {},
          "execution_count": 3
        }
      ],
      "source": [
        "#Q1 Comments\n",
        "# Single line Comments\n",
        "\n",
        "\"\"\" Multiple line \\n\n",
        "comments\"\"\"\n",
        "\n",
        "'''Multi line \\n\n",
        "comments'''\n",
        "\n"
      ]
    },
    {
      "cell_type": "code",
      "source": [
        "#Q2 Variables: Store a value. Value can be any thing. Like int, float, string, tuple, dictionary, set, tuple, complex (9+6j)\n",
        "i = 10\n",
        "j=10.25\n",
        "k = \"Hello WOrld\""
      ],
      "metadata": {
        "id": "Qs4VvpMCHn2b"
      },
      "execution_count": null,
      "outputs": []
    },
    {
      "cell_type": "code",
      "source": [
        "#Q3 converting to difgerent data type:\n",
        "i = 10.25\n",
        "print(type(i))\n",
        "j=int(i)\n",
        "print(type(j))"
      ],
      "metadata": {
        "colab": {
          "base_uri": "https://localhost:8080/"
        },
        "id": "sigaqfxBIGVp",
        "outputId": "66625448-fd1d-422f-ea66-bc76b8f0e037"
      },
      "execution_count": 6,
      "outputs": [
        {
          "output_type": "stream",
          "name": "stdout",
          "text": [
            "<class 'float'>\n",
            "<class 'int'>\n"
          ]
        }
      ]
    },
    {
      "cell_type": "code",
      "source": [
        "#Q4 How to execute python script\n",
        "#Using  python keyword with the execution file_name.py\n",
        "Ex: python myfile.py"
      ],
      "metadata": {
        "id": "J2vl4hTXIofc"
      },
      "execution_count": null,
      "outputs": []
    },
    {
      "cell_type": "code",
      "source": [
        "#q5 Given a list my_list = [1, 2, 3, 4, 5], write the code to slice the list and obtain the sub-list [2, 3].\n",
        "my_list = [1, 2, 3, 4, 5]\n",
        "print(my_list[1:3])"
      ],
      "metadata": {
        "colab": {
          "base_uri": "https://localhost:8080/"
        },
        "id": "fxkIAYGRI-f2",
        "outputId": "8971a9aa-cd1e-43ad-cc6c-af019ddc17f6"
      },
      "execution_count": 8,
      "outputs": [
        {
          "output_type": "stream",
          "name": "stdout",
          "text": [
            "[2, 3]\n"
          ]
        }
      ]
    },
    {
      "cell_type": "code",
      "source": [
        "#q6 complex number\n",
        "#Complex number is combination of real and an imaginary number\n",
        "#Ex:\n",
        "i = 2+8j\n",
        "print(type(i))\n",
        "print(i.real)\n",
        "print(i.imag)\n",
        "\n"
      ],
      "metadata": {
        "colab": {
          "base_uri": "https://localhost:8080/"
        },
        "id": "mNhSyDjvJcYs",
        "outputId": "d36b712b-0516-4f21-8fa1-7f454ec0213d"
      },
      "execution_count": 16,
      "outputs": [
        {
          "output_type": "stream",
          "name": "stdout",
          "text": [
            "<class 'complex'>\n",
            "2.0\n",
            "8.0\n"
          ]
        }
      ]
    },
    {
      "cell_type": "code",
      "source": [
        "#q7 correct way to declare a variable named age and assign the value 25 to it?\n",
        "age = 25"
      ],
      "metadata": {
        "colab": {
          "base_uri": "https://localhost:8080/"
        },
        "id": "ZfKYjf7XKa6_",
        "outputId": "5a6a1f86-823c-4fe3-c4d1-52c6c5d71fe4"
      },
      "execution_count": 17,
      "outputs": [
        {
          "output_type": "stream",
          "name": "stdout",
          "text": [
            "25\n"
          ]
        }
      ]
    },
    {
      "cell_type": "code",
      "source": [
        "#q8 variable named price and assign the value 9.99 to it. What data type does this variable belong to\n",
        "price = 9.99 #Float data type\n",
        "print (type(price))"
      ],
      "metadata": {
        "colab": {
          "base_uri": "https://localhost:8080/"
        },
        "id": "gPbd2yr0Khsg",
        "outputId": "0fb37c86-6e37-4c18-cdf4-e865225f6235"
      },
      "execution_count": 18,
      "outputs": [
        {
          "output_type": "stream",
          "name": "stdout",
          "text": [
            "<class 'float'>\n"
          ]
        }
      ]
    },
    {
      "cell_type": "code",
      "source": [
        "#Q9. Create a variable named name and assign your full name to it as a string. How would you print the value of this variable?\n",
        "name = \"Hari Venkat\"\n",
        "print(name)"
      ],
      "metadata": {
        "colab": {
          "base_uri": "https://localhost:8080/"
        },
        "id": "Wy5iAVmaLNON",
        "outputId": "dd70b636-d641-434d-cd4e-8cdb7569d939"
      },
      "execution_count": 19,
      "outputs": [
        {
          "output_type": "stream",
          "name": "stdout",
          "text": [
            "Hari Venkat\n"
          ]
        }
      ]
    },
    {
      "cell_type": "code",
      "source": [
        "#q10. Given the string \"Hello, World!\", extract the substring \"World\".\n",
        "a = \"Hello, World!\"\n",
        "print(a[7:12])"
      ],
      "metadata": {
        "colab": {
          "base_uri": "https://localhost:8080/"
        },
        "id": "TPy5Dkt5LmWY",
        "outputId": "8cf46220-c4f8-490d-96f9-0aa829758a88"
      },
      "execution_count": 22,
      "outputs": [
        {
          "output_type": "stream",
          "name": "stdout",
          "text": [
            "World\n"
          ]
        }
      ]
    },
    {
      "cell_type": "code",
      "source": [
        "#Q11 Create a variable named \"is_student\" and assign it a boolean value indicating whether you are currently a student or not.\n",
        "is_student = True\n",
        "print(is_student)"
      ],
      "metadata": {
        "colab": {
          "base_uri": "https://localhost:8080/"
        },
        "id": "VLUcMOb3LzEy",
        "outputId": "67c7b0df-b0ed-49de-ce4f-67570f063f37"
      },
      "execution_count": 23,
      "outputs": [
        {
          "output_type": "stream",
          "name": "stdout",
          "text": [
            "True\n"
          ]
        }
      ]
    }
  ]
}