{
  "nbformat": 4,
  "nbformat_minor": 0,
  "metadata": {
    "colab": {
      "provenance": []
    },
    "kernelspec": {
      "name": "python3",
      "display_name": "Python 3"
    },
    "language_info": {
      "name": "python"
    }
  },
  "cells": [
    {
      "cell_type": "code",
      "execution_count": 25,
      "metadata": {
        "colab": {
          "base_uri": "https://localhost:8080/"
        },
        "id": "qMNJKQGT7lON",
        "outputId": "5c45431f-18c5-41ac-a190-2983f05a886d"
      },
      "outputs": [
        {
          "output_type": "stream",
          "name": "stdout",
          "text": [
            "<class 'str'>\n",
            "<class 'list'>\n",
            "<class 'float'>\n",
            "<class 'tuple'>\n"
          ]
        }
      ],
      "source": [
        "#Q1\n",
        "a=\"Hello\"\n",
        "print(type(a))\n",
        "a1=[1,2,3,4]\n",
        "print(type(a1))\n",
        "a2=10.5\n",
        "print(type(a2))\n",
        "a3=(1,2,3)\n",
        "print(type(a3))\n"
      ]
    },
    {
      "cell_type": "code",
      "source": [
        "#Q2\n",
        "var1=''\n",
        "print(type(var1))\n",
        "var2='[1,2,3]'\n",
        "print(type(var1))\n",
        "var3=[1,2,3]\n",
        "print(type(var3))\n",
        "var4=1\n",
        "print(type(var4))"
      ],
      "metadata": {
        "colab": {
          "base_uri": "https://localhost:8080/"
        },
        "id": "wHyRFB4s847P",
        "outputId": "896df2e7-6044-4a72-9d9f-dbdc353539bd"
      },
      "execution_count": 26,
      "outputs": [
        {
          "output_type": "stream",
          "name": "stdout",
          "text": [
            "<class 'str'>\n",
            "<class 'str'>\n",
            "<class 'list'>\n",
            "<class 'int'>\n"
          ]
        }
      ]
    },
    {
      "cell_type": "code",
      "source": [
        "#Q3\n",
        "a=10\n",
        "b=5\n",
        "print(a/b)\n",
        "print(a%b)\n",
        "print(a//b)\n",
        "print(a**2)"
      ],
      "metadata": {
        "colab": {
          "base_uri": "https://localhost:8080/"
        },
        "id": "uKnTKLDl9T2t",
        "outputId": "2d221e7c-2a0e-45a6-a911-43cdbbe1f5a4"
      },
      "execution_count": 22,
      "outputs": [
        {
          "output_type": "stream",
          "name": "stdout",
          "text": [
            "2.0\n",
            "0\n",
            "2\n",
            "100\n"
          ]
        }
      ]
    },
    {
      "cell_type": "code",
      "source": [
        "#Q4\n",
        "for i in [1,'a',3.0,\"Hi\",5+2j,True,False,[1,2],(1,2),{1,2}]:\n",
        "  print(i, \"datatype:\",type(i))"
      ],
      "metadata": {
        "colab": {
          "base_uri": "https://localhost:8080/"
        },
        "id": "Mb7XlrMQ9sqd",
        "outputId": "d4463427-ca99-4301-a1e1-eef26c32b116"
      },
      "execution_count": 24,
      "outputs": [
        {
          "output_type": "stream",
          "name": "stdout",
          "text": [
            "1 datatype: <class 'int'>\n",
            "a datatype: <class 'str'>\n",
            "3.0 datatype: <class 'float'>\n",
            "Hi datatype: <class 'str'>\n",
            "(5+2j) datatype: <class 'complex'>\n",
            "True datatype: <class 'bool'>\n",
            "False datatype: <class 'bool'>\n",
            "[1, 2] datatype: <class 'list'>\n",
            "(1, 2) datatype: <class 'tuple'>\n",
            "{1, 2} datatype: <class 'set'>\n"
          ]
        }
      ]
    },
    {
      "cell_type": "code",
      "source": [
        "#Q5\n",
        "a=int(input(\"a:\"))\n",
        "b=int(input(\"b:\"))\n",
        "i=1\n",
        "while a%b == 0:\n",
        "  print (\"Divisible: \",i, \"times\")\n",
        "  a=a/b\n",
        "  i+=1\n",
        "else:\n",
        "  print (\"not purly Divisible at\",i, \"time\")\n"
      ],
      "metadata": {
        "colab": {
          "base_uri": "https://localhost:8080/"
        },
        "id": "yxYgUg9_Cq9N",
        "outputId": "3aef08fd-c2d6-4d92-bf99-72f6048c276a"
      },
      "execution_count": 37,
      "outputs": [
        {
          "output_type": "stream",
          "name": "stdout",
          "text": [
            "a:500\n",
            "b:5\n",
            "Divisible:  1 times\n",
            "Divisible:  2 times\n",
            "Divisible:  3 times\n",
            "not purly Divisible at 4 time\n"
          ]
        }
      ]
    },
    {
      "cell_type": "code",
      "source": [
        "#Q6\n",
        "a = [1,2,3,4,5,6,7,8,9,10,11,12,13,14,15,16,17,18,19,20,21,22,23,24,25]\n",
        "for i in a:\n",
        "  if i%3 ==0:\n",
        "    print (i, \"- is divisible by 3\")\n",
        "  else:\n",
        "    print (i, \"- is not divisible by 3\")"
      ],
      "metadata": {
        "colab": {
          "base_uri": "https://localhost:8080/"
        },
        "id": "d2d_TRMJFdgs",
        "outputId": "de35644e-d2a0-416a-85fa-ffc418793745"
      },
      "execution_count": 2,
      "outputs": [
        {
          "output_type": "stream",
          "name": "stdout",
          "text": [
            "1 - is not divisible by 3\n",
            "2 - is not divisible by 3\n",
            "3 - is divisible by 3\n",
            "4 - is not divisible by 3\n",
            "5 - is not divisible by 3\n",
            "6 - is divisible by 3\n",
            "7 - is not divisible by 3\n",
            "8 - is not divisible by 3\n",
            "9 - is divisible by 3\n",
            "10 - is not divisible by 3\n",
            "11 - is not divisible by 3\n",
            "12 - is divisible by 3\n",
            "13 - is not divisible by 3\n",
            "14 - is not divisible by 3\n",
            "15 - is divisible by 3\n",
            "16 - is not divisible by 3\n",
            "17 - is not divisible by 3\n",
            "18 - is divisible by 3\n",
            "19 - is not divisible by 3\n",
            "20 - is not divisible by 3\n",
            "21 - is divisible by 3\n",
            "22 - is not divisible by 3\n",
            "23 - is not divisible by 3\n",
            "24 - is divisible by 3\n",
            "25 - is not divisible by 3\n"
          ]
        }
      ]
    },
    {
      "cell_type": "code",
      "source": [
        "#Q7\n",
        "#Mutable: Once you create an object you can perform any operation like update, delete, overwrite..etc  Ex: List\n",
        "a=[1,2]\n",
        "a[0]=3\n",
        "print(a)\n",
        "\n",
        "#Imutable:Once you create an object you cannot perform any operations on that. Ex: Tuple\n",
        "b=(1,2)\n",
        "b[0]=3\n",
        "print(b)"
      ],
      "metadata": {
        "colab": {
          "base_uri": "https://localhost:8080/",
          "height": 250
        },
        "id": "3P8ktcCdCrC9",
        "outputId": "3162b728-a8bf-454a-ec88-7bb3e9a588f1"
      },
      "execution_count": 7,
      "outputs": [
        {
          "output_type": "stream",
          "name": "stdout",
          "text": [
            "[3, 2]\n"
          ]
        },
        {
          "output_type": "error",
          "ename": "TypeError",
          "evalue": "ignored",
          "traceback": [
            "\u001b[0;31m---------------------------------------------------------------------------\u001b[0m",
            "\u001b[0;31mTypeError\u001b[0m                                 Traceback (most recent call last)",
            "\u001b[0;32m<ipython-input-7-01b040b2b2bb>\u001b[0m in \u001b[0;36m<cell line: 8>\u001b[0;34m()\u001b[0m\n\u001b[1;32m      6\u001b[0m \u001b[0;31m#Imutable:Once you create an object you cannot perform any operations on that. Ex: Tuple\u001b[0m\u001b[0;34m\u001b[0m\u001b[0;34m\u001b[0m\u001b[0m\n\u001b[1;32m      7\u001b[0m \u001b[0mb\u001b[0m\u001b[0;34m=\u001b[0m\u001b[0;34m(\u001b[0m\u001b[0;36m1\u001b[0m\u001b[0;34m,\u001b[0m\u001b[0;36m2\u001b[0m\u001b[0;34m)\u001b[0m\u001b[0;34m\u001b[0m\u001b[0;34m\u001b[0m\u001b[0m\n\u001b[0;32m----> 8\u001b[0;31m \u001b[0mb\u001b[0m\u001b[0;34m[\u001b[0m\u001b[0;36m0\u001b[0m\u001b[0;34m]\u001b[0m\u001b[0;34m=\u001b[0m\u001b[0;36m3\u001b[0m\u001b[0;34m\u001b[0m\u001b[0;34m\u001b[0m\u001b[0m\n\u001b[0m\u001b[1;32m      9\u001b[0m \u001b[0mprint\u001b[0m\u001b[0;34m(\u001b[0m\u001b[0mb\u001b[0m\u001b[0;34m)\u001b[0m\u001b[0;34m\u001b[0m\u001b[0;34m\u001b[0m\u001b[0m\n",
            "\u001b[0;31mTypeError\u001b[0m: 'tuple' object does not support item assignment"
          ]
        }
      ]
    },
    {
      "cell_type": "markdown",
      "source": [],
      "metadata": {
        "id": "MBuSGmgqESEj"
      }
    }
  ]
}